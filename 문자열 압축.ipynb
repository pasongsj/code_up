{
 "cells": [
  {
   "cell_type": "code",
   "execution_count": 1,
   "id": "c9484f6a",
   "metadata": {},
   "outputs": [],
   "source": [
    "def solution(s):\n",
    "    answer = 0\n",
    "    return answer"
   ]
  },
  {
   "cell_type": "code",
   "execution_count": 67,
   "id": "e333a24e",
   "metadata": {},
   "outputs": [],
   "source": [
    "s1 = \"aabbaccc\"\n",
    "s2 = \"ababcdcdababcdcd\"\n",
    "s3 = \"abcabcdede\"\n",
    "s4 = \"abcabcabcabcdededededede\"\n",
    "s5 = \"xababcdcdababcdcd\""
   ]
  },
  {
   "cell_type": "code",
   "execution_count": 76,
   "id": "8611d95c",
   "metadata": {},
   "outputs": [
    {
     "name": "stdout",
     "output_type": "stream",
     "text": [
      "result a s1 abcdcdababcdcd count 1 \n",
      "\n",
      "result ab s1 bcdcdababcdcd count 1 \n",
      "\n",
      "result aba s1 cdcdababcdcd count 1 \n",
      "\n",
      "result abab s1 dcdababcdcd count 1 \n",
      "\n",
      "result ababc s1 cdababcdcd count 1 \n",
      "\n",
      "result ababcd s1 dababcdcd count 1 \n",
      "\n",
      "result ababcdc s1 ababcdcd count 1 \n",
      "\n",
      "result ababcdcd s1 babcdcd count 1 \n",
      "\n",
      "result ababcdcda s1 abcdcd count 1 \n",
      "\n",
      "result ababcdcdab s1 bcdcd count 1 \n",
      "\n",
      "result ababcdcdaba s1 cdcd count 1 \n",
      "\n",
      "result ababcdcdabab s1 dcd count 1 \n",
      "\n",
      "result ababcdcdababc s1 cd count 1 \n",
      "\n",
      "result ababcdcdababcd s1 d count 1 \n",
      "\n",
      "result ababcdcdababcdc s1  count 1 \n",
      "\n"
     ]
    }
   ],
   "source": [
    "s1 = \"ababcdcdababcdcd\"\n",
    "result =\"\"\n",
    "repet = s1[0]\n",
    "s1 = s1[1:]\n",
    "count = 1\n",
    "index = 0\n",
    "\n",
    "while(len(s1)>0):\n",
    "    if(repet == s1[:len(repet)]):\n",
    "        count += 1\n",
    "        s1 = s1[len(repet):]\n",
    "    else:\n",
    "        if count > 1:\n",
    "            result = result + str(count) + repet\n",
    "\n",
    "        else:\n",
    "            result = result + repet\n",
    "\n",
    "\n",
    "        count = 1\n",
    "        repet = s1[0]\n",
    "        s1 = s1[1:]\n",
    "        print('result',result,'s1', s1 ,'count',count,'\\n')\n",
    "if count > 1:\n",
    "    result = result + str(count) + repet\n",
    "\n",
    "else:\n",
    "    result = result + repet\n",
    "    \n",
    "            \n",
    "\n",
    "        "
   ]
  },
  {
   "cell_type": "code",
   "execution_count": 77,
   "id": "78197088",
   "metadata": {},
   "outputs": [
    {
     "data": {
      "text/plain": [
       "'ababcdcdababcdcd'"
      ]
     },
     "execution_count": 77,
     "metadata": {},
     "output_type": "execute_result"
    }
   ],
   "source": [
    "result"
   ]
  },
  {
   "cell_type": "code",
   "execution_count": 8,
   "id": "62405428",
   "metadata": {},
   "outputs": [],
   "source": [
    "s = \"ababcdcdababcdcd\"\n",
    "result =\"\"\n",
    "repet = s[0]\n",
    "count = 1\n",
    "index = 0\n",
    "\n",
    "\n",
    "        \n",
    "    "
   ]
  },
  {
   "cell_type": "code",
   "execution_count": 9,
   "id": "9f241ee6",
   "metadata": {},
   "outputs": [],
   "source": [
    "tmp_s = s"
   ]
  },
  {
   "cell_type": "code",
   "execution_count": 22,
   "id": "cc4b59aa",
   "metadata": {},
   "outputs": [],
   "source": [
    "s = \"ababcdcdababcdcd\"\n",
    "tmp_s = \"ababcdcdababcdcd\""
   ]
  },
  {
   "cell_type": "code",
   "execution_count": 67,
   "id": "77270302",
   "metadata": {},
   "outputs": [],
   "source": [
    "\n",
    "#for i in range(len(s)//2,0,-1):\n",
    "def solution(s):\n",
    "    answer = len(s)\n",
    "    for i in range(len(s)//2,0,-1):\n",
    "        count = 1\n",
    "        result = \"\"\n",
    "        repet = s[:i]\n",
    "        for index in range(i,len(s),i):\n",
    "            if(repet == s[index:index + i]):\n",
    "                count += 1\n",
    "            elif count > 1:\n",
    "                result += (str(count) + repet)\n",
    "                count = 1\n",
    "                repet = s[index:index + i]\n",
    "            else:\n",
    "                result += repet\n",
    "                count = 1\n",
    "                repet = s[index:index + i]\n",
    "        \n",
    "        if count > 1:\n",
    "            result += (str(count) + repet)\n",
    "        else:\n",
    "            result += repet\n",
    "        answer = min([answer, len(result)])\n",
    "    return answer\n",
    "    \n",
    "\n",
    "        "
   ]
  },
  {
   "cell_type": "code",
   "execution_count": 78,
   "id": "17d3285b",
   "metadata": {},
   "outputs": [],
   "source": [
    "s = \"aabbaccc\"\n",
    "s = \"ababcdcdababcdcd\"\n",
    "s = \"abcabcdede\"\n",
    "s = \"abcabcabcabcdededededede\"\n",
    "s = \"xababcdcdababcdcd\""
   ]
  },
  {
   "cell_type": "code",
   "execution_count": 79,
   "id": "1a0cf3ba",
   "metadata": {},
   "outputs": [
    {
     "data": {
      "text/plain": [
       "17"
      ]
     },
     "execution_count": 79,
     "metadata": {},
     "output_type": "execute_result"
    }
   ],
   "source": [
    "solution(s)"
   ]
  },
  {
   "cell_type": "code",
   "execution_count": null,
   "id": "98fdbc9c",
   "metadata": {},
   "outputs": [],
   "source": []
  }
 ],
 "metadata": {
  "kernelspec": {
   "display_name": "Python 3 (ipykernel)",
   "language": "python",
   "name": "python3"
  },
  "language_info": {
   "codemirror_mode": {
    "name": "ipython",
    "version": 3
   },
   "file_extension": ".py",
   "mimetype": "text/x-python",
   "name": "python",
   "nbconvert_exporter": "python",
   "pygments_lexer": "ipython3",
   "version": "3.9.7"
  }
 },
 "nbformat": 4,
 "nbformat_minor": 5
}
