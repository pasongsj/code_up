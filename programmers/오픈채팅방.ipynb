{
 "cells": [
  {
   "cell_type": "code",
   "execution_count": 1,
   "id": "0ee16355",
   "metadata": {},
   "outputs": [],
   "source": [
    "def solution(record):\n",
    "    answer = []\n",
    "    \n",
    "    return answer"
   ]
  },
  {
   "cell_type": "code",
   "execution_count": 1,
   "id": "4515027c",
   "metadata": {},
   "outputs": [],
   "source": [
    "record =[\"Enter uid1234 Muzi\", \"Enter uid4567 Prodo\",\"Leave uid1234\",\"Enter uid1234 Prodo\",\"Change uid4567 Ryan\"]"
   ]
  },
  {
   "cell_type": "code",
   "execution_count": 13,
   "id": "7d0bb3ed",
   "metadata": {},
   "outputs": [
    {
     "name": "stdout",
     "output_type": "stream",
     "text": [
      "Enter uid1234 Muzi\n",
      "Enter uid4567 Prodo\n",
      "Leave uid1234\n",
      "Enter uid1234 Prodo\n",
      "Change uid4567 Ryan\n",
      "{'uid1234': 'Prodo', 'uid4567': 'Ryan'}\n"
     ]
    }
   ],
   "source": [
    "uid ={}\n",
    "for line in record:\n",
    "    room = line.split()\n",
    "    if room[0] =='Enter' or room[0] =='Change':\n",
    "        uid[room[1]] = room[2]\n",
    "answer = []\n",
    "for line in record:\n",
    "    room = line.split()\n",
    "    if room[0]=='Enter':\n",
    "        answer.append(f\"{uid[room[1]]}님이 들어왔습니다.\")\n",
    "    elif room[0] == 'Leave':\n",
    "        answer.append(f\"{uid[room[1]]}님이 나갔습니다.\")\n",
    "\n",
    "    \n",
    "    "
   ]
  },
  {
   "cell_type": "code",
   "execution_count": 14,
   "id": "2ca7c713",
   "metadata": {},
   "outputs": [
    {
     "data": {
      "text/plain": [
       "['Prodo님이 들어왔습니다.', 'Ryan님이 들어왔습니다.', 'Prodo님이 나갔습니다.', 'Prodo님이 들어왔습니다.']"
      ]
     },
     "execution_count": 14,
     "metadata": {},
     "output_type": "execute_result"
    }
   ],
   "source": [
    "answer"
   ]
  },
  {
   "cell_type": "code",
   "execution_count": null,
   "id": "8ebeeb52",
   "metadata": {},
   "outputs": [],
   "source": []
  }
 ],
 "metadata": {
  "kernelspec": {
   "display_name": "Python 3 (ipykernel)",
   "language": "python",
   "name": "python3"
  },
  "language_info": {
   "codemirror_mode": {
    "name": "ipython",
    "version": 3
   },
   "file_extension": ".py",
   "mimetype": "text/x-python",
   "name": "python",
   "nbconvert_exporter": "python",
   "pygments_lexer": "ipython3",
   "version": "3.9.7"
  }
 },
 "nbformat": 4,
 "nbformat_minor": 5
}
