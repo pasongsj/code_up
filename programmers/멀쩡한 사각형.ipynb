{
 "cells": [
  {
   "cell_type": "code",
   "execution_count": 10,
   "id": "9130b904",
   "metadata": {},
   "outputs": [],
   "source": [
    "from math import gcd\n",
    "def solution(w,h):\n",
    "    return w*h - (w+h)+ gcd(w,h)"
   ]
  },
  {
   "cell_type": "code",
   "execution_count": 11,
   "id": "98e98a07",
   "metadata": {},
   "outputs": [],
   "source": [
    "w = 8\n",
    "h = 12"
   ]
  },
  {
   "cell_type": "code",
   "execution_count": 12,
   "id": "58c72ec8",
   "metadata": {},
   "outputs": [
    {
     "data": {
      "text/plain": [
       "80"
      ]
     },
     "execution_count": 12,
     "metadata": {},
     "output_type": "execute_result"
    }
   ],
   "source": [
    "solution(w,h)"
   ]
  },
  {
   "cell_type": "code",
   "execution_count": 4,
   "id": "b705f7a5",
   "metadata": {},
   "outputs": [],
   "source": [
    "from math import gcd"
   ]
  },
  {
   "cell_type": "code",
   "execution_count": 6,
   "id": "6df3cb53",
   "metadata": {},
   "outputs": [],
   "source": [
    "w1 = w/gcd(w, h)\n",
    "h1 = h/gcd(w, h)\n",
    "w*h - w+h + (-1)*gcd(w,h)"
   ]
  },
  {
   "cell_type": "code",
   "execution_count": null,
   "id": "73c593f8",
   "metadata": {},
   "outputs": [],
   "source": []
  }
 ],
 "metadata": {
  "kernelspec": {
   "display_name": "Python 3 (ipykernel)",
   "language": "python",
   "name": "python3"
  },
  "language_info": {
   "codemirror_mode": {
    "name": "ipython",
    "version": 3
   },
   "file_extension": ".py",
   "mimetype": "text/x-python",
   "name": "python",
   "nbconvert_exporter": "python",
   "pygments_lexer": "ipython3",
   "version": "3.9.7"
  }
 },
 "nbformat": 4,
 "nbformat_minor": 5
}
