{
 "cells": [
  {
   "cell_type": "code",
   "execution_count": 4,
   "id": "61620439",
   "metadata": {},
   "outputs": [],
   "source": [
    "def solution(absolutes, signs):\n",
    "    answer = 0\n",
    "    for index, num in enumerate(absolutes):\n",
    "        answer += num if signs[index] else -1 * num\n",
    "    return answer"
   ]
  },
  {
   "cell_type": "code",
   "execution_count": 5,
   "id": "54b750dd",
   "metadata": {},
   "outputs": [],
   "source": [
    "absolutes = [4,7,12]\n",
    "signs = [True,False,True]"
   ]
  },
  {
   "cell_type": "code",
   "execution_count": 6,
   "id": "6344a89b",
   "metadata": {},
   "outputs": [
    {
     "data": {
      "text/plain": [
       "9"
      ]
     },
     "execution_count": 6,
     "metadata": {},
     "output_type": "execute_result"
    }
   ],
   "source": [
    "solution(absolutes, signs)"
   ]
  },
  {
   "cell_type": "code",
   "execution_count": null,
   "id": "83328fc2",
   "metadata": {},
   "outputs": [],
   "source": []
  }
 ],
 "metadata": {
  "kernelspec": {
   "display_name": "Python 3 (ipykernel)",
   "language": "python",
   "name": "python3"
  },
  "language_info": {
   "codemirror_mode": {
    "name": "ipython",
    "version": 3
   },
   "file_extension": ".py",
   "mimetype": "text/x-python",
   "name": "python",
   "nbconvert_exporter": "python",
   "pygments_lexer": "ipython3",
   "version": "3.9.7"
  }
 },
 "nbformat": 4,
 "nbformat_minor": 5
}
