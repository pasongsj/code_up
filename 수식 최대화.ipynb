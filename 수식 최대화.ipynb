{
 "cells": [
  {
   "cell_type": "code",
   "execution_count": 2,
   "id": "9fe86364",
   "metadata": {},
   "outputs": [],
   "source": [
    "def solution(expression):\n",
    "    answer = 0\n",
    "    \n",
    "    return answer"
   ]
  },
  {
   "cell_type": "code",
   "execution_count": 1,
   "id": "4250f52e",
   "metadata": {},
   "outputs": [],
   "source": [
    "# * > + > -\n",
    "# + > * > -\n",
    "# - > * > +\n",
    "# - > + > *\n",
    "# + > - > *\n",
    "seq = [['*','-','+'],['*', '+', '-'],['+' , '*' , '-'],['-' , '*' , '+'],['-' , '+' , '*'],['+' , '-' , '*']]"
   ]
  },
  {
   "cell_type": "code",
   "execution_count": 2,
   "id": "c361c527",
   "metadata": {},
   "outputs": [],
   "source": [
    "expression = \"100-200*300-500+20\""
   ]
  },
  {
   "cell_type": "code",
   "execution_count": 222,
   "id": "e1602e1f",
   "metadata": {},
   "outputs": [],
   "source": [
    "import re\n",
    "def find_min(seq1,result):\n",
    "    ans = result.copy()\n",
    "    for giho in seq1:\n",
    "        stack = []\n",
    "        while len(ans)>0:\n",
    "            now = ans.pop()\n",
    "            if(now == giho):\n",
    "                if giho == '*':\n",
    "                    stack.append(stack.pop()*ans.pop())\n",
    "                elif giho == '+':\n",
    "                    stack.append(stack.pop()+ans.pop())\n",
    "                elif giho == '-':\n",
    "                    stack.append(stack.pop()-ans.pop())\n",
    "            else:\n",
    "                stack.append(now)\n",
    "        ans = stack\n",
    "        ans.reverse()\n",
    "    return abs(ans.pop())\n",
    "\n",
    "def solution(expression):\n",
    "    seq = [['*','-','+'],['*', '+', '-'],['+','*','-'],['-','*','+'],['-','+','*'],\n",
    "           ['+','-','*']]\n",
    "    result = []\n",
    "    num = \"\"\n",
    "    for i in expression:\n",
    "        if i in seq[0]:\n",
    "            result.append(int(num))\n",
    "            result.append(i)\n",
    "            num = \"\"\n",
    "        else:\n",
    "            num += i\n",
    "    result.append(int(num))\n",
    "    result.reverse()\n",
    "    return max(find_min(e_seq,result) for e_seq in seq)\n",
    "\n",
    "\n",
    "    "
   ]
  },
  {
   "cell_type": "code",
   "execution_count": 223,
   "id": "8d5d342b",
   "metadata": {},
   "outputs": [],
   "source": [
    "expression = \"100-200*300-500+20\""
   ]
  },
  {
   "cell_type": "code",
   "execution_count": 224,
   "id": "f6598db4",
   "metadata": {},
   "outputs": [
    {
     "name": "stdout",
     "output_type": "stream",
     "text": [
      "[20, '+', 500, '-', 300, '*', 200, '-', 100]\n"
     ]
    },
    {
     "data": {
      "text/plain": [
       "60420"
      ]
     },
     "execution_count": 224,
     "metadata": {},
     "output_type": "execute_result"
    }
   ],
   "source": [
    "solution(expression)"
   ]
  },
  {
   "cell_type": "code",
   "execution_count": 159,
   "id": "6cfd57cb",
   "metadata": {},
   "outputs": [
    {
     "data": {
      "text/plain": [
       "['1',\n",
       " '0',\n",
       " '0',\n",
       " '-',\n",
       " '2',\n",
       " '0',\n",
       " '0',\n",
       " '*',\n",
       " '3',\n",
       " '0',\n",
       " '0',\n",
       " '-',\n",
       " '5',\n",
       " '0',\n",
       " '0',\n",
       " '+',\n",
       " '2',\n",
       " '0']"
      ]
     },
     "execution_count": 159,
     "metadata": {},
     "output_type": "execute_result"
    }
   ],
   "source": [
    "result"
   ]
  },
  {
   "cell_type": "code",
   "execution_count": 28,
   "id": "b0845bed",
   "metadata": {},
   "outputs": [],
   "source": [
    "result = []\n",
    "num = \"\"\n",
    "for i in expression:\n",
    "    if i in seq[0]:\n",
    "        result.append(int(num))\n",
    "        result.append(i)\n",
    "        num = \"\"\n",
    "    else:\n",
    "        num += i\n",
    "result.append(int(num))\n"
   ]
  },
  {
   "cell_type": "code",
   "execution_count": 86,
   "id": "e8234f71",
   "metadata": {},
   "outputs": [
    {
     "data": {
      "text/plain": [
       "['1',\n",
       " '0',\n",
       " '0',\n",
       " '-',\n",
       " '2',\n",
       " '0',\n",
       " '0',\n",
       " '*',\n",
       " '3',\n",
       " '0',\n",
       " '0',\n",
       " '-',\n",
       " '5',\n",
       " '0',\n",
       " '0',\n",
       " '+',\n",
       " '2',\n",
       " '0']"
      ]
     },
     "execution_count": 86,
     "metadata": {},
     "output_type": "execute_result"
    }
   ],
   "source": [
    "result"
   ]
  },
  {
   "cell_type": "code",
   "execution_count": 30,
   "id": "c0f84f8c",
   "metadata": {},
   "outputs": [
    {
     "name": "stdout",
     "output_type": "stream",
     "text": [
      "[20] [100, '-', 200, '*', 300, '-', 500, '+']\n",
      "[20, '+'] [100, '-', 200, '*', 300, '-', 500]\n",
      "[20, '+', 500] [100, '-', 200, '*', 300, '-']\n",
      "[20, '+', 500, '-'] [100, '-', 200, '*', 300]\n",
      "[20, '+', 500, '-', 300] [100, '-', 200, '*']\n",
      "[20, '+', 500, '-', 60000, '-'] [100]\n",
      "[20, '+', 500, '-', 60000, '-', 100] []\n",
      "[100] [20, '+', 500, '-', 60000, '-']\n",
      "[-60400, '+'] [20]\n",
      "[-60400, '+', 20] []\n",
      "[20] [-60400, '+']\n"
     ]
    }
   ],
   "source": [
    "answer = 0\n",
    "for giho in seq[0]:\n",
    "    stack = []\n",
    "    while len(result)>0:\n",
    "        now = result.pop()\n",
    "        if(now == giho):\n",
    "            if giho == '*':\n",
    "                stack.append(stack.pop()*result.pop())\n",
    "            elif giho == '+':\n",
    "                stack.append(stack.pop()+result.pop())\n",
    "            elif giho == '-':\n",
    "                stack.append(stack.pop()-result.pop())\n",
    "        else:\n",
    "            stack.append(now)\n",
    "            print(stack, result)\n",
    "    result = stack\n",
    "\n",
    "    \n",
    "    "
   ]
  },
  {
   "cell_type": "code",
   "execution_count": 90,
   "id": "1c52b4f7",
   "metadata": {},
   "outputs": [],
   "source": [
    "for i in seq[0]:\n",
    "    while i in result:\n",
    "        print(i)\n",
    "        result.pop(result.index(i))\n",
    "        print(result.index(i))\n",
    "  "
   ]
  },
  {
   "cell_type": "code",
   "execution_count": 67,
   "id": "b93480e6",
   "metadata": {},
   "outputs": [
    {
     "data": {
      "text/plain": [
       "1"
      ]
     },
     "execution_count": 67,
     "metadata": {},
     "output_type": "execute_result"
    }
   ],
   "source": [
    "result.index('-')"
   ]
  },
  {
   "cell_type": "code",
   "execution_count": 31,
   "id": "817e174b",
   "metadata": {},
   "outputs": [
    {
     "data": {
      "text/plain": [
       "[-60380]"
      ]
     },
     "execution_count": 31,
     "metadata": {},
     "output_type": "execute_result"
    }
   ],
   "source": [
    "result"
   ]
  },
  {
   "cell_type": "code",
   "execution_count": null,
   "id": "72d0a368",
   "metadata": {},
   "outputs": [],
   "source": []
  }
 ],
 "metadata": {
  "kernelspec": {
   "display_name": "Python 3 (ipykernel)",
   "language": "python",
   "name": "python3"
  },
  "language_info": {
   "codemirror_mode": {
    "name": "ipython",
    "version": 3
   },
   "file_extension": ".py",
   "mimetype": "text/x-python",
   "name": "python",
   "nbconvert_exporter": "python",
   "pygments_lexer": "ipython3",
   "version": "3.9.7"
  }
 },
 "nbformat": 4,
 "nbformat_minor": 5
}
